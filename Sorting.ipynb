{
 "cells": [
  {
   "cell_type": "code",
   "execution_count": 11,
   "metadata": {},
   "outputs": [
    {
     "name": "stdout",
     "output_type": "stream",
     "text": [
      "Original Array [5, 3, 2, 4, 1]\n",
      "After sorting:  [1, 2, 3, 4, 5]\n"
     ]
    }
   ],
   "source": [
    "# selection sort\n",
    "# n = 5\n",
    "# arr[] = [2,3,1,5,4]\n",
    "# after sorting = [1,2,3,4,5]\n",
    "\n",
    "arr=[]\n",
    "n = int(input(\"enter the number of elements: \"))\n",
    "\n",
    "for i in range(0,n):\n",
    "    element = int(input())\n",
    "    arr.append(element)\n",
    "\n",
    "print(\"Original Array\", arr)\n",
    "\n",
    "for i in range(n-1):\n",
    "    for j in range(i+1,n):\n",
    "       if (arr[i]>arr[j]):\n",
    "        arr[i], arr[j] = arr[j], arr[i]\n",
    "    \n",
    "\n",
    "print(\"After sorting: \", arr)\n"
   ]
  },
  {
   "cell_type": "code",
   "execution_count": 3,
   "metadata": {},
   "outputs": [
    {
     "name": "stdout",
     "output_type": "stream",
     "text": [
      "THIS IS THE RANGE:  [1, 2, 3, 4, 5]\n",
      "don't exists\n",
      "exists\n"
     ]
    }
   ],
   "source": [
    "# finding the elements in the array\n",
    "# element = 5\n",
    "\n",
    "def find_element(n):\n",
    "    arr = []\n",
    "    number = int(input(\"enter the number: \"))\n",
    "\n",
    "    for i in range(n):\n",
    "        element = int(input())\n",
    "        arr.append(element)\n",
    "    print(\"THIS IS THE RANGE: \", arr)\n",
    "\n",
    "    for i in arr:\n",
    "        if(i == number):\n",
    "            print(\"exists\")\n",
    "            break\n",
    "        else:\n",
    "            print(\"don't exists\")\n",
    "\n",
    "find_element(5)\n"
   ]
  }
 ],
 "metadata": {
  "kernelspec": {
   "display_name": ".venv",
   "language": "python",
   "name": "python3"
  },
  "language_info": {
   "codemirror_mode": {
    "name": "ipython",
    "version": 3
   },
   "file_extension": ".py",
   "mimetype": "text/x-python",
   "name": "python",
   "nbconvert_exporter": "python",
   "pygments_lexer": "ipython3",
   "version": "3.12.3"
  }
 },
 "nbformat": 4,
 "nbformat_minor": 2
}
